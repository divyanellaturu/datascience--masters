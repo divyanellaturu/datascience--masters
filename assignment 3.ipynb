{
 "cells": [
  {
   "cell_type": "code",
   "execution_count": null,
   "id": "235a48bd-31b0-4480-8a63-ff3732afe84f",
   "metadata": {},
   "outputs": [],
   "source": [
    "#oops"
   ]
  },
  {
   "cell_type": "code",
   "execution_count": null,
   "id": "7b9c62c3-4095-4502-a300-82ee8be8474c",
   "metadata": {},
   "outputs": [],
   "source": [
    "#class is a blue print for creating objects it defines set of objects and methods will have.if we create a car class will have attributes as colour,model,year and methods like stop(),start()\n",
    "once classs is defined we can create number of objects belong tp the class"
   ]
  },
  {
   "cell_type": "code",
   "execution_count": null,
   "id": "9d491493-6c70-4d48-bc60-8bf90b61663d",
   "metadata": {},
   "outputs": [],
   "source": [
    "#object is ainstance of class it concrete entity has state & behaviour we can call class functions by using class"
   ]
  },
  {
   "cell_type": "code",
   "execution_count": 1,
   "id": "8b8172cb-1ff4-437f-9e25-88e60e79f0aa",
   "metadata": {},
   "outputs": [],
   "source": [
    "class Car:\n",
    "    def __init__(self,colour,model,year):\n",
    "        self.colour=colour\n",
    "        self.model=model\n",
    "        self.year=year\n",
    "    def start(self):\n",
    "        print(\"start the car\")\n",
    "    def stop(self):\n",
    "        print(\"stop the car\")\n",
    "    "
   ]
  },
  {
   "cell_type": "code",
   "execution_count": 3,
   "id": "621924cf-ac17-4d47-8a05-2ae8f5333631",
   "metadata": {},
   "outputs": [],
   "source": [
    "a=Car('red','swift',1980)"
   ]
  },
  {
   "cell_type": "code",
   "execution_count": 5,
   "id": "c1df7288-5a6a-4952-9cf3-2b774962b476",
   "metadata": {},
   "outputs": [
    {
     "data": {
      "text/plain": [
       "<__main__.Car at 0x7f560d409690>"
      ]
     },
     "execution_count": 5,
     "metadata": {},
     "output_type": "execute_result"
    }
   ],
   "source": [
    "a"
   ]
  },
  {
   "cell_type": "code",
   "execution_count": 6,
   "id": "c5ef24b8-6b3a-4bb6-8ae2-a214c54df572",
   "metadata": {},
   "outputs": [
    {
     "data": {
      "text/plain": [
       "'red'"
      ]
     },
     "execution_count": 6,
     "metadata": {},
     "output_type": "execute_result"
    }
   ],
   "source": [
    "a.colour"
   ]
  },
  {
   "cell_type": "code",
   "execution_count": 8,
   "id": "708af77c-b44c-4b04-9b49-ca4221f4b7e3",
   "metadata": {},
   "outputs": [
    {
     "name": "stdout",
     "output_type": "stream",
     "text": [
      "start the car\n"
     ]
    }
   ],
   "source": [
    "a.start()"
   ]
  },
  {
   "cell_type": "code",
   "execution_count": null,
   "id": "912072aa-edcd-4701-9457-49b24fcf5533",
   "metadata": {},
   "outputs": [],
   "source": [
    "#pillars of oops"
   ]
  },
  {
   "cell_type": "code",
   "execution_count": null,
   "id": "fd7028c4-1c28-4c7f-8e70-bc061f68a4ae",
   "metadata": {},
   "outputs": [],
   "source": [
    "#abstraction:the process of hiding implementation and exposing only functionality to the user it deals with ideas not events\n",
    "for example a driver focus on the car functionality and not bother about its internal mechanisim"
   ]
  },
  {
   "cell_type": "code",
   "execution_count": null,
   "id": "4aa2a609-beb3-4833-a73b-3f16a1d139f7",
   "metadata": {},
   "outputs": [],
   "source": [
    "#encapsulation:encapsulation is wrapping up the code and data together into single unit.it provides control over data,data hiding unit testing encapsulated for class"
   ]
  },
  {
   "cell_type": "code",
   "execution_count": null,
   "id": "acd02079-a22b-4e5a-9214-560dc57c7d29",
   "metadata": {},
   "outputs": [],
   "source": [
    "#inheritance:the process of inheriting one class methods into another class.it helps in code reusability andsave time and effort"
   ]
  },
  {
   "cell_type": "code",
   "execution_count": null,
   "id": "92020c3a-9be9-4bd7-ba30-1c65c4b1a859",
   "metadata": {},
   "outputs": [],
   "source": [
    "#polymorphism:is ability of an object to take on many forms.it allows objects from differnt classes and treated as same class"
   ]
  },
  {
   "cell_type": "code",
   "execution_count": null,
   "id": "1bd00371-6a6b-4873-bc08-1777df828062",
   "metadata": {},
   "outputs": [],
   "source": [
    "#__init__ function is used to intialize objects to the class and it is also constructor"
   ]
  },
  {
   "cell_type": "code",
   "execution_count": 9,
   "id": "e78f380e-9ee5-44c0-903d-8c3a8cb67344",
   "metadata": {},
   "outputs": [],
   "source": [
    "class Hi():\n",
    "    def __init__(self,hello,world):\n",
    "        self.hello=hello\n",
    "        self.world=world\n",
    "    def say(self):\n",
    "        print(\"introduce your self\")\n",
    "        "
   ]
  },
  {
   "cell_type": "code",
   "execution_count": 11,
   "id": "08bedbde-44fa-479b-b0da-c599ee25be6a",
   "metadata": {},
   "outputs": [],
   "source": [
    "b=Hi(\"hello\",\"world\")"
   ]
  },
  {
   "cell_type": "code",
   "execution_count": 12,
   "id": "712e8d01-d3dd-452e-8c58-14a5d238ecc9",
   "metadata": {},
   "outputs": [
    {
     "data": {
      "text/plain": [
       "<__main__.Hi at 0x7f560d40a560>"
      ]
     },
     "execution_count": 12,
     "metadata": {},
     "output_type": "execute_result"
    }
   ],
   "source": [
    "b"
   ]
  },
  {
   "cell_type": "code",
   "execution_count": 13,
   "id": "49eeaf83-a35c-4d21-af81-43a6033c80ce",
   "metadata": {},
   "outputs": [
    {
     "data": {
      "text/plain": [
       "'hello'"
      ]
     },
     "execution_count": 13,
     "metadata": {},
     "output_type": "execute_result"
    }
   ],
   "source": [
    "b.hello"
   ]
  },
  {
   "cell_type": "code",
   "execution_count": 14,
   "id": "58bd3ed4-25f9-4d12-a254-bb3a8ec696d2",
   "metadata": {},
   "outputs": [
    {
     "name": "stdout",
     "output_type": "stream",
     "text": [
      "introduce your self\n"
     ]
    }
   ],
   "source": [
    "b.say()"
   ]
  },
  {
   "cell_type": "code",
   "execution_count": null,
   "id": "df2628aa-2c38-4e6f-9446-49eb26ebd2ae",
   "metadata": {},
   "outputs": [],
   "source": [
    "#in python self parameter is used to refer instance of object with in class.it is used to access specific methods and attributes of the class\n",
    "the self parameter is used to pass instance class to the method"
   ]
  },
  {
   "cell_type": "code",
   "execution_count": null,
   "id": "61f19964-2237-4ac8-9569-d01bf43f7243",
   "metadata": {},
   "outputs": [],
   "source": [
    "#inheritance is a mechanisim in object oreinted programming language which inherits properties and methods from another class"
   ]
  },
  {
   "cell_type": "code",
   "execution_count": null,
   "id": "22f19bfd-1166-4772-bfea-300256750aa7",
   "metadata": {},
   "outputs": [],
   "source": [
    "#single level inheritance: a derived class from single parent class"
   ]
  },
  {
   "cell_type": "code",
   "execution_count": 17,
   "id": "7c8de8ff-64ca-4029-a32d-4bc98cf6cbb2",
   "metadata": {},
   "outputs": [],
   "source": [
    "class A:\n",
    "    def fun1(self):\n",
    "        print(\"this function is parent class\")\n",
    "class B(A):\n",
    "    def fun2(self):\n",
    "        print(\"this is child class\")\n",
    "        "
   ]
  },
  {
   "cell_type": "code",
   "execution_count": 18,
   "id": "390ba2f0-2712-4d49-8f00-4c6ea7341e7e",
   "metadata": {},
   "outputs": [],
   "source": [
    "o=B()"
   ]
  },
  {
   "cell_type": "code",
   "execution_count": 21,
   "id": "bda99831-e49a-4dfa-bf6b-d35fad2eb3fd",
   "metadata": {},
   "outputs": [
    {
     "name": "stdout",
     "output_type": "stream",
     "text": [
      "this function is parent class\n",
      "this is child class\n"
     ]
    }
   ],
   "source": [
    "o.fun1()\n",
    "o.fun2()"
   ]
  },
  {
   "cell_type": "code",
   "execution_count": null,
   "id": "6fccb047-b7ff-439a-bc27-22b8fc40b3e5",
   "metadata": {},
   "outputs": [],
   "source": []
  }
 ],
 "metadata": {
  "kernelspec": {
   "display_name": "Python 3 (ipykernel)",
   "language": "python",
   "name": "python3"
  },
  "language_info": {
   "codemirror_mode": {
    "name": "ipython",
    "version": 3
   },
   "file_extension": ".py",
   "mimetype": "text/x-python",
   "name": "python",
   "nbconvert_exporter": "python",
   "pygments_lexer": "ipython3",
   "version": "3.10.8"
  }
 },
 "nbformat": 4,
 "nbformat_minor": 5
}

{
 "cells": [
  {
   "cell_type": "code",
   "execution_count": null,
   "id": "2df720dd-f23d-40c7-a845-a4bd58901bc3",
   "metadata": {},
   "outputs": [],
   "source": [
    "#inpython the built in open() functionis used to open the file.the function takes two arguments.the file name and the mode in which the file is to be opened.the following are the differnt modes in which a file can be opened"
   ]
  },
  {
   "cell_type": "code",
   "execution_count": null,
   "id": "71af4aec-1eac-4583-8144-b65325b49436",
   "metadata": {},
   "outputs": [],
   "source": [
    "#read mode('r') is used to read data from the file.the file pointer is placed at the begining of the file.if the file does not exist,a new file is created"
   ]
  },
  {
   "cell_type": "markdown",
   "id": "7b2dc979-3062-473e-b408-cdbe29b5568d",
   "metadata": {},
   "source": [
    "#write mode('w') is used to write data to the file.the file pointer is placed at the begining of the life.if the file does not exist,an error is raised"
   ]
  },
  {
   "cell_type": "code",
   "execution_count": null,
   "id": "ef63dbfd-d1c0-499d-b334-1b408396c3ac",
   "metadata": {},
   "outputs": [],
   "source": [
    "#append mode('a') is used to append data to a file.the file pointer is placed at the end of the life.if the file doesnot exist ,a new file created"
   ]
  },
  {
   "cell_type": "code",
   "execution_count": null,
   "id": "fc8d4f56-a4b3-40fc-91c4-83b94aa3fb79",
   "metadata": {},
   "outputs": [],
   "source": [
    "#binary mode('b') is used to open afile in binary mode.this mode is usedd when the file is not a text file"
   ]
  },
  {
   "cell_type": "code",
   "execution_count": null,
   "id": "1589dce0-be9d-4b9a-b198-32da7fb9e4e9",
   "metadata": {},
   "outputs": [],
   "source": [
    "#read and write mode(\"r+\") is used to read and write data to a file.the file pointer is placed at the begining of the file"
   ]
  },
  {
   "cell_type": "code",
   "execution_count": null,
   "id": "84b36c5c-a0ef-4f6a-9d3f-f1d44f37abb9",
   "metadata": {},
   "outputs": [],
   "source": [
    "#write and read mode(\"W+\") is used to read and write data to a file.if the file already exists,it is truncated to zero length.if the file doesnot exist it is truncated to zero length.if the file does not exist a new file is created"
   ]
  },
  {
   "cell_type": "code",
   "execution_count": null,
   "id": "8641cebf-7fd0-4282-8ed9-44978fd70f9e",
   "metadata": {},
   "outputs": [],
   "source": [
    "#append and read mode(\"a+\") is used to read and append data to a file.the file pointer is placedd at the end of the fiel.if the file does not exist a new file is creted\n",
    "the \"r+\".\"w+\",\"a+\" allows both reading and writing to a file"
   ]
  },
  {
   "cell_type": "code",
   "execution_count": null,
   "id": "29230495-1e33-401d-9039-43bc14e1ef10",
   "metadata": {},
   "outputs": [],
   "source": [
    "#close function"
   ]
  },
  {
   "cell_type": "code",
   "execution_count": null,
   "id": "b43c58c4-b48d-49a7-994c-9aa8e3d639b9",
   "metadata": {},
   "outputs": [],
   "source": [
    "#the close funnction is used to close a file after it has been opened.it is important to close a file because it frees up system resources that were being used by the file.when a file is opened the operating system allocates resources to it such aa memory and cpu time.if file not closed properly these resources may not be released,which can lead to issues like running out of file handles\n",
    "or experincing corrupted data"
   ]
  },
  {
   "cell_type": "code",
   "execution_count": 1,
   "id": "68efee3d-0ed8-44cc-9269-73ba2dfaa423",
   "metadata": {},
   "outputs": [],
   "source": [
    "with open('file.txt','w') as file:\n",
    "    file.write(\"hell0,world!\")"
   ]
  },
  {
   "cell_type": "code",
   "execution_count": 3,
   "id": "691539f3-cba7-4fe8-a228-4924b10ad572",
   "metadata": {},
   "outputs": [
    {
     "data": {
      "text/plain": [
       "<_io.TextIOWrapper name='file.txt' mode='r' encoding='UTF-8'>"
      ]
     },
     "execution_count": 3,
     "metadata": {},
     "output_type": "execute_result"
    }
   ],
   "source": [
    "open('file.txt')"
   ]
  },
  {
   "cell_type": "code",
   "execution_count": 5,
   "id": "1a5f921c-d2d1-4ab7-84cc-ecd54d19982a",
   "metadata": {},
   "outputs": [
    {
     "ename": "NameError",
     "evalue": "name 'close' is not defined",
     "output_type": "error",
     "traceback": [
      "\u001b[0;31m---------------------------------------------------------------------------\u001b[0m",
      "\u001b[0;31mNameError\u001b[0m                                 Traceback (most recent call last)",
      "Cell \u001b[0;32mIn[5], line 1\u001b[0m\n\u001b[0;32m----> 1\u001b[0m \u001b[43mclose\u001b[49m()\n",
      "\u001b[0;31mNameError\u001b[0m: name 'close' is not defined"
     ]
    }
   ],
   "source": [
    "close()"
   ]
  },
  {
   "cell_type": "code",
   "execution_count": null,
   "id": "088ecaea-4d21-43ab-b31f-cd5c7bcd8fbd",
   "metadata": {},
   "outputs": [],
   "source": []
  }
 ],
 "metadata": {
  "kernelspec": {
   "display_name": "Python 3 (ipykernel)",
   "language": "python",
   "name": "python3"
  },
  "language_info": {
   "codemirror_mode": {
    "name": "ipython",
    "version": 3
   },
   "file_extension": ".py",
   "mimetype": "text/x-python",
   "name": "python",
   "nbconvert_exporter": "python",
   "pygments_lexer": "ipython3",
   "version": "3.10.8"
  }
 },
 "nbformat": 4,
 "nbformat_minor": 5
}

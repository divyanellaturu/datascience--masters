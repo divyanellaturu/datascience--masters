{
 "cells": [
  {
   "cell_type": "code",
   "execution_count": null,
   "id": "21f05e39-104b-4451-ba36-a43994bdd39c",
   "metadata": {},
   "outputs": [],
   "source": [
    "#artificial intelligence is the study of enabling machines to mic human behaviour through set of rules .ai is a combination of two words :\"artificial\" meaning something made by humans or non natural things and \"intelligence\" meaning the ability to understand or think accordingly.ai focuses on 3 major aspects like learning,reasoning and self correction to obtain the maximum efficiency possible"
   ]
  },
  {
   "cell_type": "code",
   "execution_count": null,
   "id": "cad1b436-56e7-49ca-a5b1-d71650b201ab",
   "metadata": {},
   "outputs": [],
   "source": [
    "#machine learning is asubset of AI that provides the system to learn automatically on its own through experiences it had and improve accordingly with out being explicitly programmed.the major aim of ML is allow the system to learn by themselves through experirence without any kind of human intervention or assistance"
   ]
  },
  {
   "cell_type": "code",
   "execution_count": null,
   "id": "61e5203f-7390-4f5a-a84b-eea6f9b86734",
   "metadata": {},
   "outputs": [],
   "source": [
    "#deep learning is sub part of the boarder family of machine learning which makes use of neural networks to mimic human barin like behaviour.DL algorithms focus on information processing patterns mechanism to possibly identify the patterns just like our human brain does and classifies the information accordingly"
   ]
  },
  {
   "cell_type": "code",
   "execution_count": null,
   "id": "61f7bd41-3ff0-48b2-a1f3-6ce8a888e200",
   "metadata": {},
   "outputs": [],
   "source": [
    "#supervisedd learning is atype of machine learning alogorithm that learns from labeled data.labeled data that has been tagged with a correct answer or classification .supervisedd learning as the name indicates has the ppresence of supervisor ass ateacher .the machine is trained using data is well-labelled after that the machine is provided with a new set of examples sp that the supervised learning algorithm analyses the trainig data and produces a correct out come from labelled data"
   ]
  },
  {
   "cell_type": "code",
   "execution_count": null,
   "id": "d6b02610-7d5e-4fe4-a063-529b2c6ea3f9",
   "metadata": {},
   "outputs": [],
   "source": [
    "#linear regression is aalogorith that predicts a continous output variable based on one or more input variables"
   ]
  },
  {
   "cell_type": "code",
   "execution_count": null,
   "id": "e28003c0-efca-45dc-a2b3-1f53995634fb",
   "metadata": {},
   "outputs": [],
   "source": [
    "#logistic regression is aclassification alogorithm that predicts the probability of an event occuring based on one or more input variables"
   ]
  },
  {
   "cell_type": "code",
   "execution_count": null,
   "id": "3c0cd12a-3023-4483-9d1c-0d05123fa61a",
   "metadata": {},
   "outputs": [],
   "source": [
    "#decision trees is a classification alogorithm that splits the data into smaller subsets based on the most significant features"
   ]
  },
  {
   "cell_type": "code",
   "execution_count": null,
   "id": "84c4ce9c-560a-4a5f-8d5d-82f6a60cc34f",
   "metadata": {},
   "outputs": [],
   "source": [
    "#random forest is an aensemble learning method that combines multiple decisssion trees to improve the accuracy and prevent over fitting"
   ]
  },
  {
   "cell_type": "code",
   "execution_count": null,
   "id": "afbcc83b-9fb7-4671-ad9e-aa7e785d76f3",
   "metadata": {},
   "outputs": [],
   "source": [
    "#support vector machines is a classification algorithm that finds the best boundary between the posssible outputs"
   ]
  },
  {
   "cell_type": "code",
   "execution_count": null,
   "id": "333c7372-f194-47c0-94c0-124464cc99f9",
   "metadata": {},
   "outputs": [],
   "source": [
    "#unsupervised learning is atype of machine learning algorithm that learns from unlabeled data unlabeled data is data taht has not been tagged with any classification or category.the machine learning moedel tries to find any similarirties differnences,patterns,and structures in data by itself without any prior human intervention "
   ]
  },
  {
   "cell_type": "code",
   "execution_count": null,
   "id": "1c0a2b2a-e433-47ea-8585-775b81e916eb",
   "metadata": {},
   "outputs": [],
   "source": [
    "#clusrering is a technique that groups similar data points together based on their characteristics"
   ]
  },
  {
   "cell_type": "code",
   "execution_count": null,
   "id": "6631a79a-cdc8-45d4-a8de-5cc9d4c8d7c2",
   "metadata": {},
   "outputs": [],
   "source": [
    "#anomaly detection is atechnique that redduces the number of features in adata set while retaining the most important information"
   ]
  },
  {
   "cell_type": "code",
   "execution_count": null,
   "id": "9eff8067-de4b-4f17-bdc2-86e23e7c0fb9",
   "metadata": {},
   "outputs": [],
   "source": [
    "#association rule meaning is a technique"
   ]
  }
 ],
 "metadata": {
  "kernelspec": {
   "display_name": "Python 3 (ipykernel)",
   "language": "python",
   "name": "python3"
  },
  "language_info": {
   "codemirror_mode": {
    "name": "ipython",
    "version": 3
   },
   "file_extension": ".py",
   "mimetype": "text/x-python",
   "name": "python",
   "nbconvert_exporter": "python",
   "pygments_lexer": "ipython3",
   "version": "3.10.8"
  }
 },
 "nbformat": 4,
 "nbformat_minor": 5
}

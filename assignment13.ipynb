{
 "cells": [
  {
   "cell_type": "code",
   "execution_count": null,
   "id": "8083b465-211e-44ad-8bec-49fdcd01ea07",
   "metadata": {},
   "outputs": [],
   "source": [
    "#Api"
   ]
  },
  {
   "cell_type": "code",
   "execution_count": null,
   "id": "b35df2b2-8de1-4171-8c69-9c10e320eaf6",
   "metadata": {},
   "outputs": [],
   "source": [
    "An API or application programming interface is aset of rules or protocals that allows differnt applications to communicate each other.it acts as bridge enabiling data features and functionality.essentially API simplifies and accelerate applications and software development by allowing developers to integrate data and from other service"
   ]
  },
  {
   "cell_type": "code",
   "execution_count": null,
   "id": "fb1cd45c-2796-49dc-9f4a-b77f0bfd2081",
   "metadata": {},
   "outputs": [],
   "source": [
    "#example googlemaps,whwether forecasting"
   ]
  },
  {
   "cell_type": "code",
   "execution_count": null,
   "id": "03610cdf-2b73-4094-bfb6-c2df11c0959a",
   "metadata": {},
   "outputs": [],
   "source": [
    "#advantages of api"
   ]
  },
  {
   "cell_type": "code",
   "execution_count": null,
   "id": "085020d9-8c04-46a5-ae3e-179718e93f1a",
   "metadata": {},
   "outputs": [],
   "source": [
    "Modularity\n",
    "efficiency\n",
    "integrity\n",
    "accessbility\n",
    "innovation"
   ]
  },
  {
   "cell_type": "code",
   "execution_count": null,
   "id": "2d475571-9e9f-4a0c-bc2e-870c5c48bf20",
   "metadata": {},
   "outputs": [],
   "source": [
    "#disadvantages of API"
   ]
  },
  {
   "cell_type": "code",
   "execution_count": null,
   "id": "d6471d61-f164-4620-941f-f23e1faed390",
   "metadata": {},
   "outputs": [],
   "source": [
    "security risk\n",
    "complexity\n",
    "dependence\n",
    "performance\n",
    "cost"
   ]
  },
  {
   "cell_type": "code",
   "execution_count": null,
   "id": "c069aa12-7165-4426-9678-e54ca22ef50e",
   "metadata": {},
   "outputs": [],
   "source": [
    "#diffrence between web Api and api"
   ]
  },
  {
   "cell_type": "code",
   "execution_count": null,
   "id": "c560eff7-a37c-410c-ba58-24d3c40480e5",
   "metadata": {},
   "outputs": [],
   "source": [
    "web api ued for web based application based on HTTP protocal it supports formats  files like json etc"
   ]
  },
  {
   "cell_type": "code",
   "execution_count": null,
   "id": "fa602b34-2655-4e61-9758-6c91a76b39f0",
   "metadata": {},
   "outputs": [],
   "source": [
    "general api used for both web based and desktop based applications it supports any file formats it works bsed on protocols lile TCP,HTTPand custom"
   ]
  },
  {
   "cell_type": "code",
   "execution_count": null,
   "id": "9ef37c3f-c102-4030-8513-48364e44ec1c",
   "metadata": {},
   "outputs": [],
   "source": [
    "#rest api and soap architecture"
   ]
  },
  {
   "cell_type": "code",
   "execution_count": null,
   "id": "2d9b1441-0b4f-424b-9b29-ccf08d4e4315",
   "metadata": {},
   "outputs": [],
   "source": [
    "REST is an architectural style for designing networked applications. It is based on a set of principles that define how web resources are structured and accessed. The key features of REST include:"
   ]
  },
  {
   "cell_type": "code",
   "execution_count": null,
   "id": "11ac5ecd-7fc7-4036-8f2a-567bca7a9536",
   "metadata": {},
   "outputs": [],
   "source": [
    "SOAP (Simple Object Access Protocol): SOAP is a protocol for exchanging structured information in the implementation of web services in computer networks. Its primary features are:"
   ]
  }
 ],
 "metadata": {
  "kernelspec": {
   "display_name": "Python 3 (ipykernel)",
   "language": "python",
   "name": "python3"
  },
  "language_info": {
   "codemirror_mode": {
    "name": "ipython",
    "version": 3
   },
   "file_extension": ".py",
   "mimetype": "text/x-python",
   "name": "python",
   "nbconvert_exporter": "python",
   "pygments_lexer": "ipython3",
   "version": "3.10.8"
  }
 },
 "nbformat": 4,
 "nbformat_minor": 5
}

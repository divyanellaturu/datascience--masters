{
  "nbformat": 4,
  "nbformat_minor": 0,
  "metadata": {
    "colab": {
      "provenance": []
    },
    "kernelspec": {
      "name": "python3",
      "display_name": "Python 3"
    },
    "language_info": {
      "name": "python"
    }
  },
  "cells": [
    {
      "cell_type": "code",
      "source": [
        "#differnece between ordinal and label encoding"
      ],
      "metadata": {
        "id": "BUrZZdHEsxRb"
      },
      "execution_count": null,
      "outputs": []
    },
    {
      "cell_type": "code",
      "source": [
        "Difference Between Ordinal Encoding and Label Encoding\n",
        "Both Ordinal Encoding and Label Encoding are used to convert categorical data into numerical format, but they are applied in different contexts based on the nature of the categorical variable.\n",
        "\n",
        "1. Ordinal Encoding:\n",
        "Definition: Ordinal encoding is used when the categories in a feature have a meaningful order or rank, but the differences between the values are not necessarily equal. The order is preserved when encoding the categories into integers.\n",
        "When to Use: It is appropriate for ordinal variables, where there is an inherent ranking between the categories.\n",
        "2. Label Encoding:\n",
        "Definition: Label encoding is used to convert categorical variables into numerical values by assigning each unique category a unique integer, without considering any order or hierarchy.\n",
        "When to Use: It is applied to nominal variables, where there is no meaningful order among categories. However, this method can introduce unintended relationships if used on nominal data inappropriately.\n"
      ],
      "metadata": {
        "id": "hMfPuZbBs28D"
      },
      "execution_count": null,
      "outputs": []
    },
    {
      "cell_type": "code",
      "source": [
        "#target guide ordianl encoding"
      ],
      "metadata": {
        "id": "2Ujq7a5itFgP"
      },
      "execution_count": null,
      "outputs": []
    },
    {
      "cell_type": "code",
      "source": [
        "Target Guided Ordinal Encoding:\n",
        "Target Guided Ordinal Encoding is a technique where the categories of a feature are encoded based on their relationship with the target variable. This method ranks categories based on some statistics (e.g., mean or median) of the target variable, and then assigns ordinal values according to that ranking.\n",
        "\n",
        "How It Works:\n",
        "Compute a Statistic: For each category in the feature, calculate a relevant statistic (often the mean or median of the target variable for each category).\n",
        "Sort Categories: Sort the categories based on this statistic.\n",
        "Assign Ordinal Labels: Assign ordinal values to each category based on the sorted order.\n",
        "This method is particularly useful when a categorical feature has a strong relationship with the target variable, and the ordinal relationship between categories can improve the model's ability to learn from the data.\n",
        "\n"
      ],
      "metadata": {
        "id": "w3D-15oitPe6"
      },
      "execution_count": null,
      "outputs": []
    }
  ]
}
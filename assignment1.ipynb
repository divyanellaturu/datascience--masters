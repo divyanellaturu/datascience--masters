{
 "cells": [
  {
   "cell_type": "code",
   "execution_count": null,
   "id": "d60e26d7-2577-435c-8dd8-214ab55e53cf",
   "metadata": {},
   "outputs": [],
   "source": [
    "#characteristics of tuples"
   ]
  },
  {
   "cell_type": "code",
   "execution_count": null,
   "id": "425a2885-61d4-4c6b-8365-b22a1fd42f82",
   "metadata": {},
   "outputs": [],
   "source": [
    "tuples are immutable once tuples were created it cannot be changed.tuples are similar like lists in terms of indexing,nesting and repetition objects\n",
    "tuples are orderd and allow duplicate values."
   ]
  },
  {
   "cell_type": "code",
   "execution_count": null,
   "id": "44df7cd9-1ccc-48c3-be72-70523f3d4866",
   "metadata": {},
   "outputs": [],
   "source": [
    "#tuple methods"
   ]
  },
  {
   "cell_type": "code",
   "execution_count": null,
   "id": "d4149cf0-f91f-4e5e-8c71-0ce819f9627b",
   "metadata": {},
   "outputs": [],
   "source": [
    "tuple methods have two builtin methods count() and index()"
   ]
  },
  {
   "cell_type": "code",
   "execution_count": null,
   "id": "c5ceceb3-1098-429b-b5c7-4e6bdf23830b",
   "metadata": {},
   "outputs": [],
   "source": [
    "count() method returns the number of times a specified element appers in the tuple.the syntax for this method as follows\n",
    "tuple.count(element)"
   ]
  },
  {
   "cell_type": "code",
   "execution_count": null,
   "id": "07751ea0-84f3-4b1c-991c-adde8995f19d",
   "metadata": {},
   "outputs": [],
   "source": [
    "#example of count method"
   ]
  },
  {
   "cell_type": "code",
   "execution_count": 2,
   "id": "2f344e83-3342-4468-82d8-e7db8f2c134b",
   "metadata": {},
   "outputs": [],
   "source": [
    "a=(1,2,3,4,5,6,7,3,2,3)"
   ]
  },
  {
   "cell_type": "code",
   "execution_count": 3,
   "id": "990da297-6fb9-4cb2-9ee2-c04048316eba",
   "metadata": {},
   "outputs": [
    {
     "data": {
      "text/plain": [
       "3"
      ]
     },
     "execution_count": 3,
     "metadata": {},
     "output_type": "execute_result"
    }
   ],
   "source": [
    "a.count(3)"
   ]
  },
  {
   "cell_type": "code",
   "execution_count": null,
   "id": "1b1f56c1-d06a-4a38-8fd0-9b9a633f1048",
   "metadata": {},
   "outputs": [],
   "source": [
    "index() method returns the index of the first occurence  of a specified element in the tuple.syntax for this method as follows\n",
    "tuple.index(element,start,end)"
   ]
  },
  {
   "cell_type": "code",
   "execution_count": null,
   "id": "48df68f6-64a2-4295-88aa-502728a05775",
   "metadata": {},
   "outputs": [],
   "source": [
    "#example of index method"
   ]
  },
  {
   "cell_type": "code",
   "execution_count": 4,
   "id": "e63fff1d-5623-42d6-bc6a-e965191617ad",
   "metadata": {},
   "outputs": [
    {
     "data": {
      "text/plain": [
       "3"
      ]
     },
     "execution_count": 4,
     "metadata": {},
     "output_type": "execute_result"
    }
   ],
   "source": [
    "a.index(4)"
   ]
  },
  {
   "cell_type": "code",
   "execution_count": null,
   "id": "807a48f5-8edb-4432-9a60-e2b04059cda5",
   "metadata": {},
   "outputs": [],
   "source": [
    "#collection data types"
   ]
  },
  {
   "cell_type": "code",
   "execution_count": null,
   "id": "69bdb2d7-e056-4306-b75b-cf85dee8a0da",
   "metadata": {},
   "outputs": [],
   "source": [
    "the set datatypes is used to remove duplicates in python"
   ]
  },
  {
   "cell_type": "code",
   "execution_count": 5,
   "id": "0154e085-e4b9-4158-9367-adf14761559f",
   "metadata": {},
   "outputs": [],
   "source": [
    "list=[1,1,1,2,1,3,1,4,2,1,2,2,3,2,4,3,1,3,2,3,3,3,4,4,1,4,2,4,3,4,4,4]"
   ]
  },
  {
   "cell_type": "code",
   "execution_count": 11,
   "id": "52ce9656-934e-41c8-855f-913be22ee9af",
   "metadata": {},
   "outputs": [
    {
     "data": {
      "text/plain": [
       "{1, 2, 3, 4}"
      ]
     },
     "execution_count": 11,
     "metadata": {},
     "output_type": "execute_result"
    }
   ],
   "source": [
    "set(list)"
   ]
  },
  {
   "cell_type": "code",
   "execution_count": null,
   "id": "6967a04e-efa3-49ee-8978-ea6390aee688",
   "metadata": {},
   "outputs": [],
   "source": [
    "#union() and update() method"
   ]
  },
  {
   "cell_type": "code",
   "execution_count": null,
   "id": "c0a79991-72b1-4cb0-ae88-78b530b62c7d",
   "metadata": {},
   "outputs": [],
   "source": [
    "union() method returns a new ste that contains all the elements from the both sets"
   ]
  },
  {
   "cell_type": "code",
   "execution_count": 12,
   "id": "2e15d1a4-bbb7-4acb-839b-1bb30265ed00",
   "metadata": {},
   "outputs": [],
   "source": [
    "a={1,2,3}\n",
    "b={3,4,5}"
   ]
  },
  {
   "cell_type": "code",
   "execution_count": 27,
   "id": "29ceafbf-e632-4389-9733-00bc1703ffc7",
   "metadata": {},
   "outputs": [
    {
     "data": {
      "text/plain": [
       "{1, 2, 3, 4, 5}"
      ]
     },
     "execution_count": 27,
     "metadata": {},
     "output_type": "execute_result"
    }
   ],
   "source": [
    "a.union(b)"
   ]
  },
  {
   "cell_type": "code",
   "execution_count": 29,
   "id": "ada9de00-8684-4b8d-9b1b-0c19b3519026",
   "metadata": {},
   "outputs": [],
   "source": [
    "#update() method adds the elements from another set to the current set\n"
   ]
  },
  {
   "cell_type": "code",
   "execution_count": null,
   "id": "f2a81e01-8cf9-4724-bbd1-50ac474c09e5",
   "metadata": {},
   "outputs": [],
   "source": [
    "# dictionary"
   ]
  },
  {
   "cell_type": "code",
   "execution_count": null,
   "id": "879303eb-3ddb-4f36-af3f-899fa77c59f4",
   "metadata": {},
   "outputs": [],
   "source": [
    "in python dictionary is a data structure that stores values in key value pairs.each key ina dictionary should be unique while values can be any types and can be duplicated\n",
    "dictionaries are orders and doesnot contain dup;icate values"
   ]
  },
  {
   "cell_type": "code",
   "execution_count": null,
   "id": "3aff19b4-02dc-46fa-aed2-3e45cf1b0b81",
   "metadata": {},
   "outputs": [],
   "source": [
    "#example"
   ]
  },
  {
   "cell_type": "code",
   "execution_count": 24,
   "id": "76dee0be-5df6-4adf-a61f-640c8982ab0f",
   "metadata": {},
   "outputs": [],
   "source": [
    "d={'a':2,'b':3,'c':4}"
   ]
  },
  {
   "cell_type": "code",
   "execution_count": 25,
   "id": "ea419228-9cdf-4f9b-8c8b-c029db6d1d35",
   "metadata": {},
   "outputs": [
    {
     "data": {
      "text/plain": [
       "{'a': 2, 'b': 3, 'c': 4}"
      ]
     },
     "execution_count": 25,
     "metadata": {},
     "output_type": "execute_result"
    }
   ],
   "source": [
    "d"
   ]
  },
  {
   "cell_type": "code",
   "execution_count": null,
   "id": "5a1e31e9-f18f-4c8a-a5d9-c9a901754137",
   "metadata": {},
   "outputs": [],
   "source": [
    "#nested dictionary"
   ]
  },
  {
   "cell_type": "code",
   "execution_count": 26,
   "id": "47d4dd35-7d92-4a55-a603-ed89293b7c4e",
   "metadata": {},
   "outputs": [],
   "source": [
    "persons={1:{'name':'a','age':22},2:{'name':'b','age':23}}\n",
    "     "
   ]
  },
  {
   "cell_type": "code",
   "execution_count": 30,
   "id": "6a30cd13-cc9c-4116-9cdd-d821d981c41b",
   "metadata": {},
   "outputs": [
    {
     "data": {
      "text/plain": [
       "{1: {'name': 'a', 'age': 22}, 2: {'name': 'b', 'age': 23}}"
      ]
     },
     "execution_count": 30,
     "metadata": {},
     "output_type": "execute_result"
    }
   ],
   "source": [
    "persons"
   ]
  },
  {
   "cell_type": "code",
   "execution_count": null,
   "id": "a6f3717a-cc6c-43ad-9088-7f3016864b06",
   "metadata": {},
   "outputs": [],
   "source": [
    "#set default method"
   ]
  },
  {
   "cell_type": "code",
   "execution_count": 31,
   "id": "434d0a6a-57d7-4005-979b-4770bc7d451b",
   "metadata": {},
   "outputs": [],
   "source": [
    "d={'languge':'python','':'machinelearning','':'deeplearning'}"
   ]
  },
  {
   "cell_type": "code",
   "execution_count": 37,
   "id": "2d42dbe6-0b76-4bfe-be2d-542a06f1ab85",
   "metadata": {},
   "outputs": [
    {
     "data": {
      "text/plain": [
       "'deeplearning'"
      ]
     },
     "execution_count": 37,
     "metadata": {},
     "output_type": "execute_result"
    }
   ],
   "source": [
    "d.setdefault('')"
   ]
  },
  {
   "cell_type": "code",
   "execution_count": null,
   "id": "bb8b4c46-824d-48ae-8afd-57b5c8dff998",
   "metadata": {},
   "outputs": [],
   "source": [
    "#view objects in dictionarie"
   ]
  },
  {
   "cell_type": "code",
   "execution_count": null,
   "id": "12ecc5d4-ad85-43aa-8e14-0f6e772f49fe",
   "metadata": {},
   "outputs": [],
   "source": [
    "there are three builtin methods in dictionaries which are dict.keys(),dict.values(),dict.items()"
   ]
  },
  {
   "cell_type": "code",
   "execution_count": 38,
   "id": "6a0dda49-ec39-465d-a94f-b3a5ce6ac4e0",
   "metadata": {},
   "outputs": [],
   "source": [
    "d1={'a':21,'b':23,'c':25,'d':34,'e':21}"
   ]
  },
  {
   "cell_type": "code",
   "execution_count": 39,
   "id": "5b1d97d7-d5da-4f60-bf72-186b6ba55a34",
   "metadata": {},
   "outputs": [
    {
     "data": {
      "text/plain": [
       "dict_keys(['a', 'b', 'c', 'd', 'e'])"
      ]
     },
     "execution_count": 39,
     "metadata": {},
     "output_type": "execute_result"
    }
   ],
   "source": [
    "d1.keys()"
   ]
  },
  {
   "cell_type": "code",
   "execution_count": 40,
   "id": "5479a693-d7f4-4fa8-a536-874ebe93f8c4",
   "metadata": {},
   "outputs": [
    {
     "data": {
      "text/plain": [
       "dict_values([21, 23, 25, 34, 21])"
      ]
     },
     "execution_count": 40,
     "metadata": {},
     "output_type": "execute_result"
    }
   ],
   "source": [
    "d1.values()"
   ]
  },
  {
   "cell_type": "code",
   "execution_count": 41,
   "id": "68691af0-9a55-4ea1-8d50-e515bd23348e",
   "metadata": {},
   "outputs": [
    {
     "data": {
      "text/plain": [
       "dict_items([('a', 21), ('b', 23), ('c', 25), ('d', 34), ('e', 21)])"
      ]
     },
     "execution_count": 41,
     "metadata": {},
     "output_type": "execute_result"
    }
   ],
   "source": [
    "d1.items()"
   ]
  },
  {
   "cell_type": "code",
   "execution_count": null,
   "id": "97d375ce-075e-440a-80bd-328d75d6426c",
   "metadata": {},
   "outputs": [],
   "source": []
  }
 ],
 "metadata": {
  "kernelspec": {
   "display_name": "Python 3 (ipykernel)",
   "language": "python",
   "name": "python3"
  },
  "language_info": {
   "codemirror_mode": {
    "name": "ipython",
    "version": 3
   },
   "file_extension": ".py",
   "mimetype": "text/x-python",
   "name": "python",
   "nbconvert_exporter": "python",
   "pygments_lexer": "ipython3",
   "version": "3.10.8"
  }
 },
 "nbformat": 4,
 "nbformat_minor": 5
}

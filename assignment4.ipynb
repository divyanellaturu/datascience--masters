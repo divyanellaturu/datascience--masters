{
 "cells": [
  {
   "cell_type": "code",
   "execution_count": null,
   "id": "ed25616c-f157-40d2-bc31-83fe6093a8aa",
   "metadata": {},
   "outputs": [],
   "source": [
    "#Q1-python programming language is developed by guido van rossum in 1980s.guido van rossum started implementation of python in december 1989 at cwi in nethar lands\n",
    "as a successor ABC capable of exception handling and interfacing with ameoba operating system.he is also known as benovelent dictator of python"
   ]
  },
  {
   "cell_type": "code",
   "execution_count": null,
   "id": "63756a70-7c66-4689-8eda-9bf5d3587e35",
   "metadata": {},
   "outputs": [],
   "source": [
    "#Q2-python is a multi-paridgm programming which supports object oreinted programming and functional programming"
   ]
  },
  {
   "cell_type": "code",
   "execution_count": null,
   "id": "b6057454-abd1-47f8-8a5c-021b25086a5d",
   "metadata": {},
   "outputs": [],
   "source": [
    "#Q3-yes python is case sensitive when it comes to identifiers such as class names,variable names,function names and other user dfined names"
   ]
  },
  {
   "cell_type": "code",
   "execution_count": null,
   "id": "1e215a94-7505-4960-98fb-758de606fe05",
   "metadata": {},
   "outputs": [],
   "source": [
    "#Q-4the file extension of python file is.py which means that file contains python code"
   ]
  },
  {
   "cell_type": "code",
   "execution_count": null,
   "id": "9dac880a-c104-44d6-8ca9-a48eb47eddc6",
   "metadata": {},
   "outputs": [],
   "source": [
    "#Q5-python is high level inter preted language when you write python code it first compiled into byte code by python interpreter.the byte code interpreted by python virtual machine\n",
    "the pvm is responsible for executing the byte code into machine code that can be executed by processor"
   ]
  },
  {
   "cell_type": "code",
   "execution_count": null,
   "id": "f48dacde-f04a-4d45-b291-2c4722792aec",
   "metadata": {},
   "outputs": [],
   "source": [
    "#Q6-a block of code python contains class,module a function body and indentation is called as unit"
   ]
  },
  {
   "cell_type": "code",
   "execution_count": null,
   "id": "2e87c20f-5988-4e41-bb89-1a1f6222d057",
   "metadata": {},
   "outputs": [],
   "source": [
    "#Q7-in a python comments are ignored from code by interpreter it was denoted by '#' symbol"
   ]
  },
  {
   "cell_type": "code",
   "execution_count": null,
   "id": "66c6da30-cb0c-4320-a8c5-ac81a35cfa35",
   "metadata": {},
   "outputs": [],
   "source": [
    "#Q8-when you find version of python by sing sys module"
   ]
  },
  {
   "cell_type": "code",
   "execution_count": 1,
   "id": "1f07d440-4b8e-4dad-9258-0427e2ed4a09",
   "metadata": {},
   "outputs": [],
   "source": [
    "import sys"
   ]
  },
  {
   "cell_type": "code",
   "execution_count": 3,
   "id": "d64dc757-0f69-4082-b4fe-41bbb3de7a1c",
   "metadata": {},
   "outputs": [
    {
     "name": "stdout",
     "output_type": "stream",
     "text": [
      "3.10.8 | packaged by conda-forge | (main, Nov 22 2022, 08:26:04) [GCC 10.4.0]\n"
     ]
    }
   ],
   "source": [
    "print(sys.version)"
   ]
  },
  {
   "cell_type": "code",
   "execution_count": null,
   "id": "9ef9f27e-4a72-4582-9a7c-54e56b0f1f12",
   "metadata": {},
   "outputs": [],
   "source": [
    "#Q9-yes python supports creation of anonymous functions at runtime using constructor called lambda function\n",
    "lambda arguments:expression"
   ]
  },
  {
   "cell_type": "code",
   "execution_count": null,
   "id": "ace1a266-24ce-4a5c-b6ef-83ded7477fdf",
   "metadata": {},
   "outputs": [],
   "source": [
    "#Q10-pip stands for \"pip install packages\".it is package installer of python is used to manage and download python packages from python package indes during dependencieds of deployment"
   ]
  },
  {
   "cell_type": "code",
   "execution_count": null,
   "id": "ace5490c-6067-42c9-a63b-a2f58731c367",
   "metadata": {},
   "outputs": [],
   "source": [
    "#Q11-python has rich built-in functions that are always used in any python program\n",
    "print(),int(),len(),type(),range(),str(),input()"
   ]
  },
  {
   "cell_type": "code",
   "execution_count": null,
   "id": "16221a2f-eedf-432a-92b6-824baead26a9",
   "metadata": {},
   "outputs": [],
   "source": [
    "#Q12- the maximum  length of identifier in python is 79  charcters"
   ]
  },
  {
   "cell_type": "code",
   "execution_count": null,
   "id": "8942acee-6f5e-40ef-8dbd-ffaab56b5091",
   "metadata": {},
   "outputs": [],
   "source": [
    "#Q13-python is programming language that offers several benifits to the developers they are:\n",
    "easy to leran\n",
    "large community and support\n",
    "cross-platform compatability\n",
    "extensive standard library\n",
    "high level languge\n"
   ]
  },
  {
   "cell_type": "code",
   "execution_count": null,
   "id": "131100b4-7744-47e8-b995-7489c638b301",
   "metadata": {},
   "outputs": [],
   "source": [
    "#Q14-in python memory is managed by python private heap space which invoves techniques like garbage collection,memory typing and memory pools"
   ]
  },
  {
   "cell_type": "code",
   "execution_count": null,
   "id": "236605b2-9754-4287-b496-b1c1a27c4ac7",
   "metadata": {},
   "outputs": [],
   "source": [
    "#Q15-download latest version python through official website during the installation process select add python to path\n",
    "which helps to run python program from ant directory\n",
    "open the satrt menu and search for environmental variables and click on the system environment variable and under the system variable scroll down and select path and click on eddit and new add the path to python installation directory(eg:c\\39) and click on ok"
   ]
  },
  {
   "cell_type": "code",
   "execution_count": null,
   "id": "0bc09ba5-c15e-4c01-9a95-33d008e22805",
   "metadata": {},
   "outputs": [],
   "source": [
    "#Q16-yes in python indentation is required in python used to define scope of  block of a code such as loop function and conditional staements"
   ]
  }
 ],
 "metadata": {
  "kernelspec": {
   "display_name": "Python 3 (ipykernel)",
   "language": "python",
   "name": "python3"
  },
  "language_info": {
   "codemirror_mode": {
    "name": "ipython",
    "version": 3
   },
   "file_extension": ".py",
   "mimetype": "text/x-python",
   "name": "python",
   "nbconvert_exporter": "python",
   "pygments_lexer": "ipython3",
   "version": "3.10.8"
  }
 },
 "nbformat": 4,
 "nbformat_minor": 5
}

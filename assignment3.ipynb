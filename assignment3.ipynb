{
 "cells": [
  {
   "cell_type": "code",
   "execution_count": null,
   "id": "54d6266d-3cf1-4733-ae61-c91d5f7dc37f",
   "metadata": {},
   "outputs": [],
   "source": [
    "#tuple sorting using lambda function"
   ]
  },
  {
   "cell_type": "code",
   "execution_count": 1,
   "id": "f607260d-a849-4c00-97ed-4d8e061f50d9",
   "metadata": {},
   "outputs": [],
   "source": [
    "a=[('sachin tendulkur',34357),('ricky ponting',27483),('jack kallis',25534),('virat kohli',24936)]"
   ]
  },
  {
   "cell_type": "code",
   "execution_count": 2,
   "id": "69c08699-0865-4156-b092-9d3830afa45f",
   "metadata": {},
   "outputs": [
    {
     "data": {
      "text/plain": [
       "[('sachin tendulkur', 34357),\n",
       " ('ricky ponting', 27483),\n",
       " ('jack kallis', 25534),\n",
       " ('virat kohli', 24936)]"
      ]
     },
     "execution_count": 2,
     "metadata": {},
     "output_type": "execute_result"
    }
   ],
   "source": [
    "a"
   ]
  },
  {
   "cell_type": "code",
   "execution_count": 4,
   "id": "ca7062a7-080b-404b-8271-a2119d7722cd",
   "metadata": {},
   "outputs": [],
   "source": [
    "a.sort(key=lambda a:a[1])"
   ]
  },
  {
   "cell_type": "code",
   "execution_count": 5,
   "id": "5bc078ff-43e8-4f58-9794-3bae0e02a122",
   "metadata": {},
   "outputs": [
    {
     "data": {
      "text/plain": [
       "[('virat kohli', 24936),\n",
       " ('jack kallis', 25534),\n",
       " ('ricky ponting', 27483),\n",
       " ('sachin tendulkur', 34357)]"
      ]
     },
     "execution_count": 5,
     "metadata": {},
     "output_type": "execute_result"
    }
   ],
   "source": [
    "a"
   ]
  },
  {
   "cell_type": "code",
   "execution_count": null,
   "id": "aafb24ab-c14f-48d2-bda1-d8ab835cc05e",
   "metadata": {},
   "outputs": [],
   "source": [
    "#square of inntegers"
   ]
  },
  {
   "cell_type": "code",
   "execution_count": 7,
   "id": "f7cffacc-0918-461d-ad2c-068c79004828",
   "metadata": {},
   "outputs": [],
   "source": [
    "l=[1,2,3,4,5,6,7,8,9,10]"
   ]
  },
  {
   "cell_type": "code",
   "execution_count": 8,
   "id": "c3021bbc-0888-4654-aa72-ca7d68aeb7c4",
   "metadata": {},
   "outputs": [],
   "source": [
    "l1=list(map(lambda x:x**2,l))"
   ]
  },
  {
   "cell_type": "code",
   "execution_count": 9,
   "id": "bf7fbd92-9ceb-4b5c-a635-76b9c4753f4c",
   "metadata": {},
   "outputs": [
    {
     "data": {
      "text/plain": [
       "[1, 4, 9, 16, 25, 36, 49, 64, 81, 100]"
      ]
     },
     "execution_count": 9,
     "metadata": {},
     "output_type": "execute_result"
    }
   ],
   "source": [
    "l1"
   ]
  },
  {
   "cell_type": "code",
   "execution_count": null,
   "id": "0617b75e-6d5a-48d7-a5bb-30a282ea0464",
   "metadata": {},
   "outputs": [],
   "source": [
    "#convert tuple of strings"
   ]
  },
  {
   "cell_type": "code",
   "execution_count": 12,
   "id": "78c679d2-2878-4ba6-ba69-1c9042be9d75",
   "metadata": {},
   "outputs": [],
   "source": [
    "s=[1,2,3,4,5,6,7,8,9,10]"
   ]
  },
  {
   "cell_type": "code",
   "execution_count": 13,
   "id": "715a4961-f25c-40fc-9fc6-80789ea92058",
   "metadata": {},
   "outputs": [],
   "source": [
    "s1=tuple(map(lambda x:(str(x)),s))"
   ]
  },
  {
   "cell_type": "code",
   "execution_count": 14,
   "id": "1118445d-0c8c-4d17-ab23-834f39978aee",
   "metadata": {},
   "outputs": [
    {
     "data": {
      "text/plain": [
       "('1', '2', '3', '4', '5', '6', '7', '8', '9', '10')"
      ]
     },
     "execution_count": 14,
     "metadata": {},
     "output_type": "execute_result"
    }
   ],
   "source": [
    "s1"
   ]
  },
  {
   "cell_type": "code",
   "execution_count": null,
   "id": "e82d66be-c4e6-4ea9-b978-5d91dc61d9e0",
   "metadata": {},
   "outputs": [],
   "source": [
    "#filter function "
   ]
  },
  {
   "cell_type": "code",
   "execution_count": 21,
   "id": "c32e8a21-ac01-49cd-8bf3-a95b928a0f36",
   "metadata": {},
   "outputs": [],
   "source": [
    "f=[2,3,6,9,27,60,90,120,55,46]"
   ]
  },
  {
   "cell_type": "code",
   "execution_count": 22,
   "id": "1b33e6d4-18da-4663-8a72-5d45d1f395ac",
   "metadata": {},
   "outputs": [],
   "source": [
    "f1=list(filter(lambda x:x%2==0 and x%3==0,f))"
   ]
  },
  {
   "cell_type": "code",
   "execution_count": 23,
   "id": "c8b8ec1f-df76-4a46-8402-27e707c4ff77",
   "metadata": {},
   "outputs": [
    {
     "data": {
      "text/plain": [
       "[6, 60, 90, 120]"
      ]
     },
     "execution_count": 23,
     "metadata": {},
     "output_type": "execute_result"
    }
   ],
   "source": [
    "f1"
   ]
  },
  {
   "cell_type": "code",
   "execution_count": null,
   "id": "764d6ebb-ff11-4e66-b985-e807e643a61d",
   "metadata": {},
   "outputs": [],
   "source": [
    "#palindrome"
   ]
  },
  {
   "cell_type": "code",
   "execution_count": 24,
   "id": "4a9e1035-afba-46bd-97d7-04fef54ad016",
   "metadata": {},
   "outputs": [],
   "source": [
    "p=['python','php','aba','radar','level']"
   ]
  },
  {
   "cell_type": "code",
   "execution_count": 25,
   "id": "5d5118c8-88af-4848-bbc6-e83deaffb2e3",
   "metadata": {},
   "outputs": [],
   "source": [
    "p1=list(filter(lambda x:x==x[::-1],p))"
   ]
  },
  {
   "cell_type": "code",
   "execution_count": 26,
   "id": "9491facf-8473-422b-802f-e3aac720f268",
   "metadata": {},
   "outputs": [
    {
     "data": {
      "text/plain": [
       "['php', 'aba', 'radar', 'level']"
      ]
     },
     "execution_count": 26,
     "metadata": {},
     "output_type": "execute_result"
    }
   ],
   "source": [
    "p1"
   ]
  },
  {
   "cell_type": "code",
   "execution_count": null,
   "id": "cfae6fce-bf2f-41c4-a69c-f3301b3e4159",
   "metadata": {},
   "outputs": [],
   "source": []
  }
 ],
 "metadata": {
  "kernelspec": {
   "display_name": "Python 3 (ipykernel)",
   "language": "python",
   "name": "python3"
  },
  "language_info": {
   "codemirror_mode": {
    "name": "ipython",
    "version": 3
   },
   "file_extension": ".py",
   "mimetype": "text/x-python",
   "name": "python",
   "nbconvert_exporter": "python",
   "pygments_lexer": "ipython3",
   "version": "3.10.8"
  }
 },
 "nbformat": 4,
 "nbformat_minor": 5
}

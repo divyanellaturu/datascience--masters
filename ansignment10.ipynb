{
 "cells": [
  {
   "cell_type": "code",
   "execution_count": null,
   "id": "64c67d91-3e3f-4faf-8fa4-8f6863a2795d",
   "metadata": {},
   "outputs": [],
   "source": [
    "#exception"
   ]
  },
  {
   "cell_type": "code",
   "execution_count": null,
   "id": "414f51d0-54d1-4741-ad55-4ef4c6c55e35",
   "metadata": {},
   "outputs": [],
   "source": [
    "in python errors are problems in aprogram that prevent the code from being executed while exceptions are runtime-related problems that occur when the code tries to perform an invalid operation"
   ]
  },
  {
   "cell_type": "code",
   "execution_count": null,
   "id": "f8990393-2dd3-4c06-aab9-8fd8f010861d",
   "metadata": {},
   "outputs": [],
   "source": [
    "#syntax errors"
   ]
  },
  {
   "cell_type": "code",
   "execution_count": null,
   "id": "88048960-c0e0-4819-9cfa-bc1a8f5984b7",
   "metadata": {},
   "outputs": [],
   "source": [
    "syntax errors occur when the proper syntax of the language is not followed.for example if a colon is missing after an if staement a syntax error is thrown"
   ]
  },
  {
   "cell_type": "code",
   "execution_count": null,
   "id": "df846cf9-2ca7-44fd-9545-4a04b0fc3984",
   "metadata": {},
   "outputs": [],
   "source": [
    "#exception handling"
   ]
  },
  {
   "cell_type": "code",
   "execution_count": null,
   "id": "cf528c2f-0903-4760-bac2-ee2cbc0800a0",
   "metadata": {},
   "outputs": [],
   "source": [
    "a=10/0\n",
    "print(\"the code will not executed\")"
   ]
  },
  {
   "cell_type": "code",
   "execution_count": null,
   "id": "430ec7ad-d240-40d0-90a0-935b598391b6",
   "metadata": {},
   "outputs": [],
   "source": [
    "inthis code the program will raise a zero division error exception and terminate abruptly.the message line will not get executed"
   ]
  },
  {
   "cell_type": "code",
   "execution_count": null,
   "id": "a6639fe7-27d9-4915-a50d-6f35dfd16429",
   "metadata": {},
   "outputs": [],
   "source": [
    "#in python try,except,else finally and raise are used for exception handling"
   ]
  },
  {
   "cell_type": "code",
   "execution_count": 2,
   "id": "5a92ca46-877a-4975-9fde-02934d442c71",
   "metadata": {},
   "outputs": [
    {
     "name": "stdout",
     "output_type": "stream",
     "text": [
      "the code has error\n",
      "there is no any exception\n"
     ]
    }
   ],
   "source": [
    "try:\n",
    "    a=10/0\n",
    "except Exception as e:\n",
    "    print(\"the code has error\")\n",
    "else:\n",
    "    print(\"the code\")\n",
    "finally:\n",
    "    print(\"there is no any exception\")"
   ]
  },
  {
   "cell_type": "code",
   "execution_count": null,
   "id": "db61a9f7-d1e8-4371-a7ce-0c5b3d1d7284",
   "metadata": {},
   "outputs": [],
   "source": [
    "#in python custom exception sare user dfined exceptions that can be created by deriving anewnclass from the builtin exception class.custom exceptions are useful when we want to raise an exception tht is specific to our programs need and is not converted by the buit in exceptions"
   ]
  },
  {
   "cell_type": "code",
   "execution_count": null,
   "id": "2be7166b-c032-42a7-8d97-7f84815ed22e",
   "metadata": {},
   "outputs": [],
   "source": []
  }
 ],
 "metadata": {
  "kernelspec": {
   "display_name": "Python 3 (ipykernel)",
   "language": "python",
   "name": "python3"
  },
  "language_info": {
   "codemirror_mode": {
    "name": "ipython",
    "version": 3
   },
   "file_extension": ".py",
   "mimetype": "text/x-python",
   "name": "python",
   "nbconvert_exporter": "python",
   "pygments_lexer": "ipython3",
   "version": "3.10.8"
  }
 },
 "nbformat": 4,
 "nbformat_minor": 5
}

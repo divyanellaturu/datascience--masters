{
 "cells": [
  {
   "cell_type": "code",
   "execution_count": 1,
   "id": "b9c5c9ae-4c7c-4e23-a0d5-571812e7f3b9",
   "metadata": {},
   "outputs": [],
   "source": [
    "class Vehicle:\n",
    "    def __init__(self,name,speed,average):\n",
    "        self.name=name\n",
    "        self.speed=speed\n",
    "        self.average=average"
   ]
  },
  {
   "cell_type": "code",
   "execution_count": 2,
   "id": "fc1256d7-04d2-4f62-a616-697880a35745",
   "metadata": {},
   "outputs": [],
   "source": [
    "car=Vehicle(\"swift\",130,34.5)"
   ]
  },
  {
   "cell_type": "code",
   "execution_count": 3,
   "id": "10a85a94-fa19-496a-a4e7-9e723e23b359",
   "metadata": {},
   "outputs": [
    {
     "data": {
      "text/plain": [
       "'swift'"
      ]
     },
     "execution_count": 3,
     "metadata": {},
     "output_type": "execute_result"
    }
   ],
   "source": [
    "car.name"
   ]
  },
  {
   "cell_type": "code",
   "execution_count": 5,
   "id": "1a26773c-4cff-47e7-851c-9c9ed4ef7c0a",
   "metadata": {},
   "outputs": [
    {
     "data": {
      "text/plain": [
       "130"
      ]
     },
     "execution_count": 5,
     "metadata": {},
     "output_type": "execute_result"
    }
   ],
   "source": [
    "car.speed"
   ]
  },
  {
   "cell_type": "code",
   "execution_count": 6,
   "id": "71014c07-4c9e-4056-a8b9-dce6c2cb6c6a",
   "metadata": {},
   "outputs": [
    {
     "data": {
      "text/plain": [
       "34.5"
      ]
     },
     "execution_count": 6,
     "metadata": {},
     "output_type": "execute_result"
    }
   ],
   "source": [
    "car.average"
   ]
  },
  {
   "cell_type": "code",
   "execution_count": 34,
   "id": "40c42f3f-de25-476a-95fe-a2e7fed70263",
   "metadata": {},
   "outputs": [],
   "source": [
    "class Vehicle:\n",
    "    def __init__(self,name):\n",
    "        self.name=name\n",
    "class Car(Vehicle):\n",
    "    def capacity(self,capacity):\n",
    "        f\"the {self.name} has setting capacity of{capacity} passengers\""
   ]
  },
  {
   "cell_type": "code",
   "execution_count": 35,
   "id": "03863998-28ea-4a82-81cd-7328febfa920",
   "metadata": {},
   "outputs": [],
   "source": [
    "a=Car(\"toyota\")"
   ]
  },
  {
   "cell_type": "code",
   "execution_count": 36,
   "id": "67bce21a-49ae-485f-9ad4-341e077a3679",
   "metadata": {},
   "outputs": [
    {
     "data": {
      "text/plain": [
       "'toyota'"
      ]
     },
     "execution_count": 36,
     "metadata": {},
     "output_type": "execute_result"
    }
   ],
   "source": [
    "a.name"
   ]
  },
  {
   "cell_type": "code",
   "execution_count": 37,
   "id": "a16cd3b4-f1b1-4383-8cd8-131d0211da2c",
   "metadata": {},
   "outputs": [
    {
     "name": "stdout",
     "output_type": "stream",
     "text": [
      "None\n"
     ]
    }
   ],
   "source": [
    "print(a.capacity(5))"
   ]
  },
  {
   "cell_type": "code",
   "execution_count": null,
   "id": "ab00a6c8-e2b3-49e4-92c0-e4f15994d858",
   "metadata": {},
   "outputs": [],
   "source": [
    "#multiple inheritance is used to inherit parent classes and used access by child classes"
   ]
  },
  {
   "cell_type": "code",
   "execution_count": 21,
   "id": "3c599fea-9797-4d6e-a713-99b455603dae",
   "metadata": {},
   "outputs": [],
   "source": [
    "class Parent1:\n",
    "    def method1(self):\n",
    "        print(\"the parent class of method1\")\n",
    "class Parent2:\n",
    "    def method2(self):\n",
    "        print(\"the parent class of method2\")\n",
    "class Child(Parent1,Parent2):\n",
    "    def method3(self):\n",
    "        print(\"ythe child class of method3\")"
   ]
  },
  {
   "cell_type": "code",
   "execution_count": 22,
   "id": "c8a39087-4025-4dcb-a8df-ed2d1880cafe",
   "metadata": {},
   "outputs": [],
   "source": [
    "a=Child()"
   ]
  },
  {
   "cell_type": "code",
   "execution_count": 23,
   "id": "6330ecf4-1f44-4542-93a5-712143e918ca",
   "metadata": {},
   "outputs": [
    {
     "name": "stdout",
     "output_type": "stream",
     "text": [
      "the parent class of method1\n"
     ]
    }
   ],
   "source": [
    "a.method1()"
   ]
  },
  {
   "cell_type": "code",
   "execution_count": null,
   "id": "a0dd6bdf-da52-42cc-b4ab-3b56949acb2c",
   "metadata": {},
   "outputs": [],
   "source": [
    "#in python getters and setters allows you to retrive and modify the values of an object attributes"
   ]
  },
  {
   "cell_type": "code",
   "execution_count": 29,
   "id": "9e5ffd5f-fa4c-4454-b026-1685ce0eb569",
   "metadata": {},
   "outputs": [],
   "source": [
    "class Vehicle:\n",
    "    def __init__(self,name):\n",
    "        self.name=name\n",
    "    def get_name(self):\n",
    "        return self.name\n",
    "    def set_name(self,name):\n",
    "        self.name=name"
   ]
  },
  {
   "cell_type": "code",
   "execution_count": 30,
   "id": "e24641eb-ff8c-4918-9917-33884d50ee21",
   "metadata": {},
   "outputs": [],
   "source": [
    "b=Vehicle(\"audi\")"
   ]
  },
  {
   "cell_type": "code",
   "execution_count": 31,
   "id": "d8e83dc5-344e-4b40-b847-c483f9a8eb66",
   "metadata": {},
   "outputs": [
    {
     "data": {
      "text/plain": [
       "'audi'"
      ]
     },
     "execution_count": 31,
     "metadata": {},
     "output_type": "execute_result"
    }
   ],
   "source": [
    "b.get_name()"
   ]
  },
  {
   "cell_type": "code",
   "execution_count": null,
   "id": "997afdef-9408-4291-ab88-1e4cf1a1dc8d",
   "metadata": {},
   "outputs": [],
   "source": [
    "#method overiding is ability to provide speccific implementation of a method that its already provided by parent class"
   ]
  },
  {
   "cell_type": "code",
   "execution_count": 38,
   "id": "5398f610-e8a4-45f0-ba23-d53056882c32",
   "metadata": {},
   "outputs": [],
   "source": [
    "class Course:\n",
    "    def python(self):\n",
    "        print(\"python is best\")\n",
    "class Course2(Course):\n",
    "    def DSA(self):\n",
    "        print(\"the course is DSA\")"
   ]
  },
  {
   "cell_type": "code",
   "execution_count": 39,
   "id": "aec644f0-cfb6-492a-8437-795baa76bf8d",
   "metadata": {},
   "outputs": [],
   "source": [
    "d=Course2()"
   ]
  },
  {
   "cell_type": "code",
   "execution_count": 40,
   "id": "222868b3-81ec-4c14-aef2-a436986d2069",
   "metadata": {},
   "outputs": [
    {
     "name": "stdout",
     "output_type": "stream",
     "text": [
      "the course is DSA\n"
     ]
    }
   ],
   "source": [
    "d.DSA()"
   ]
  },
  {
   "cell_type": "code",
   "execution_count": null,
   "id": "09473f75-1cc3-4160-85da-0df50b6d7129",
   "metadata": {},
   "outputs": [],
   "source": []
  }
 ],
 "metadata": {
  "kernelspec": {
   "display_name": "Python 3 (ipykernel)",
   "language": "python",
   "name": "python3"
  },
  "language_info": {
   "codemirror_mode": {
    "name": "ipython",
    "version": 3
   },
   "file_extension": ".py",
   "mimetype": "text/x-python",
   "name": "python",
   "nbconvert_exporter": "python",
   "pygments_lexer": "ipython3",
   "version": "3.10.8"
  }
 },
 "nbformat": 4,
 "nbformat_minor": 5
}

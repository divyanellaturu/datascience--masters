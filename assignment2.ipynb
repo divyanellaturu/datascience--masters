{
 "cells": [
  {
   "cell_type": "code",
   "execution_count": null,
   "id": "853d828b-e18d-44f1-9d78-de413cd5e29a",
   "metadata": {},
   "outputs": [],
   "source": [
    "#functions"
   ]
  },
  {
   "cell_type": "code",
   "execution_count": null,
   "id": "573d7c9b-ec6b-4620-a1d9-08edc3ae116f",
   "metadata": {},
   "outputs": [],
   "source": [
    "def keyword is used to create function"
   ]
  },
  {
   "cell_type": "code",
   "execution_count": 4,
   "id": "8316590d-bb71-4d42-8616-c3ac52dbfe55",
   "metadata": {},
   "outputs": [],
   "source": [
    "def odd():\n",
    "    return(list(range(1,26,2)))\n",
    "           "
   ]
  },
  {
   "cell_type": "code",
   "execution_count": 5,
   "id": "14d01550-8c34-4c05-9ebd-95a5e9586814",
   "metadata": {},
   "outputs": [
    {
     "data": {
      "text/plain": [
       "[1, 3, 5, 7, 9, 11, 13, 15, 17, 19, 21, 23, 25]"
      ]
     },
     "execution_count": 5,
     "metadata": {},
     "output_type": "execute_result"
    }
   ],
   "source": [
    "odd()"
   ]
  },
  {
   "cell_type": "code",
   "execution_count": null,
   "id": "a8911873-56ba-408f-a402-a7deee72c62e",
   "metadata": {},
   "outputs": [],
   "source": [
    "#iter method"
   ]
  },
  {
   "cell_type": "code",
   "execution_count": 30,
   "id": "58575b93-eed6-4aa3-b4fc-b5c35f94c435",
   "metadata": {},
   "outputs": [],
   "source": [
    "l=[2,4,6,8,10,12,14,16,18,20]"
   ]
  },
  {
   "cell_type": "code",
   "execution_count": 32,
   "id": "afcb71a5-18a6-478d-a746-cee3e62d6356",
   "metadata": {},
   "outputs": [],
   "source": [
    "iterator=iter(l)"
   ]
  },
  {
   "cell_type": "code",
   "execution_count": 33,
   "id": "72b220c5-54ef-405a-85c6-7a72abe4f1d6",
   "metadata": {},
   "outputs": [
    {
     "data": {
      "text/plain": [
       "2"
      ]
     },
     "execution_count": 33,
     "metadata": {},
     "output_type": "execute_result"
    }
   ],
   "source": [
    "next(l)"
   ]
  },
  {
   "cell_type": "code",
   "execution_count": 34,
   "id": "18ae557e-1e17-43d5-a338-6760bc8d642e",
   "metadata": {},
   "outputs": [
    {
     "data": {
      "text/plain": [
       "4"
      ]
     },
     "execution_count": 34,
     "metadata": {},
     "output_type": "execute_result"
    }
   ],
   "source": [
    "next(l)"
   ]
  },
  {
   "cell_type": "code",
   "execution_count": 35,
   "id": "d50e2ade-5ea3-49c1-b4bc-09213953d6ca",
   "metadata": {},
   "outputs": [
    {
     "data": {
      "text/plain": [
       "6"
      ]
     },
     "execution_count": 35,
     "metadata": {},
     "output_type": "execute_result"
    }
   ],
   "source": [
    "next(l)"
   ]
  },
  {
   "cell_type": "code",
   "execution_count": 36,
   "id": "be538788-7479-433b-ab49-39f0a9e665cb",
   "metadata": {},
   "outputs": [
    {
     "data": {
      "text/plain": [
       "8"
      ]
     },
     "execution_count": 36,
     "metadata": {},
     "output_type": "execute_result"
    }
   ],
   "source": [
    "next(l)"
   ]
  },
  {
   "cell_type": "code",
   "execution_count": 37,
   "id": "7d88909c-fa70-4de0-8315-705f0a59df18",
   "metadata": {},
   "outputs": [
    {
     "data": {
      "text/plain": [
       "10"
      ]
     },
     "execution_count": 37,
     "metadata": {},
     "output_type": "execute_result"
    }
   ],
   "source": [
    "next(l)"
   ]
  },
  {
   "cell_type": "code",
   "execution_count": 38,
   "id": "1e134aca-542a-4dfe-a469-bf53012963bf",
   "metadata": {},
   "outputs": [
    {
     "data": {
      "text/plain": [
       "12"
      ]
     },
     "execution_count": 38,
     "metadata": {},
     "output_type": "execute_result"
    }
   ],
   "source": [
    "next(l)"
   ]
  },
  {
   "cell_type": "code",
   "execution_count": 39,
   "id": "691cd7b5-47e6-4e71-b804-80b3e11ff021",
   "metadata": {},
   "outputs": [
    {
     "data": {
      "text/plain": [
       "14"
      ]
     },
     "execution_count": 39,
     "metadata": {},
     "output_type": "execute_result"
    }
   ],
   "source": [
    "next(l)"
   ]
  },
  {
   "cell_type": "code",
   "execution_count": 40,
   "id": "237fe0fe-2799-4d80-983b-9bee998e73fc",
   "metadata": {},
   "outputs": [
    {
     "data": {
      "text/plain": [
       "16"
      ]
     },
     "execution_count": 40,
     "metadata": {},
     "output_type": "execute_result"
    }
   ],
   "source": [
    "next(l)"
   ]
  },
  {
   "cell_type": "code",
   "execution_count": null,
   "id": "ae00234f-e08c-4ed2-840f-74ed3407475b",
   "metadata": {},
   "outputs": [],
   "source": [
    "#generator function"
   ]
  },
  {
   "cell_type": "code",
   "execution_count": null,
   "id": "ae8c7b7a-2ad7-418f-9c58-9b79d5b2eb8e",
   "metadata": {},
   "outputs": [],
   "source": [
    "generator function is a special type of function in python that use a yield keyword to return an iterator object and it is temporary clause of  function to return a value"
   ]
  },
  {
   "cell_type": "code",
   "execution_count": 41,
   "id": "9fe61c20-3cfd-42bb-8c9c-150974fecf53",
   "metadata": {},
   "outputs": [],
   "source": [
    "def sequence():\n",
    "    num=0\n",
    "    while true:\n",
    "        yield num\n",
    "        num+=1\n",
    "    "
   ]
  },
  {
   "cell_type": "code",
   "execution_count": 42,
   "id": "49dc2c74-18e9-4d5e-8638-806885a1c213",
   "metadata": {},
   "outputs": [
    {
     "data": {
      "text/plain": [
       "<generator object sequence at 0x7f1cceb522d0>"
      ]
     },
     "execution_count": 42,
     "metadata": {},
     "output_type": "execute_result"
    }
   ],
   "source": [
    "sequence()"
   ]
  },
  {
   "cell_type": "code",
   "execution_count": 46,
   "id": "9ed511c3-4b6f-4d29-9a54-cbdcff206997",
   "metadata": {},
   "outputs": [
    {
     "name": "stdout",
     "output_type": "stream",
     "text": [
      "0\n",
      "1\n",
      "2\n",
      "3\n",
      "4\n",
      "5\n",
      "6\n",
      "7\n",
      "8\n",
      "9\n"
     ]
    }
   ],
   "source": [
    "for i in range(10):\n",
    "    print(i)"
   ]
  },
  {
   "cell_type": "code",
   "execution_count": null,
   "id": "392ba8bc-1610-4b38-865c-1c84504b8b44",
   "metadata": {},
   "outputs": [],
   "source": [
    "#prime numbers"
   ]
  },
  {
   "cell_type": "code",
   "execution_count": 47,
   "id": "b147e4ff-be38-4fc8-8e72-ca19bf334eb3",
   "metadata": {},
   "outputs": [],
   "source": [
    "def prime(n):\n",
    "    i=2\n",
    "    while i<n:\n",
    "        prime==true\n",
    "        for a in range(2,i):\n",
    "            if i%a==0:\n",
    "                prime==false\n",
    "                break\n",
    "                if prime:\n",
    "                    yield i\n",
    "                    i+=1\n",
    "        "
   ]
  },
  {
   "cell_type": "code",
   "execution_count": 49,
   "id": "0ec42bc2-b63c-4e6a-9878-45474c9f720f",
   "metadata": {},
   "outputs": [
    {
     "data": {
      "text/plain": [
       "<generator object prime at 0x7f1cceb52730>"
      ]
     },
     "execution_count": 49,
     "metadata": {},
     "output_type": "execute_result"
    }
   ],
   "source": [
    "prime(1000)"
   ]
  },
  {
   "cell_type": "code",
   "execution_count": null,
   "id": "2a6f4611-33bc-4d03-8a86-b4aeb734acd3",
   "metadata": {},
   "outputs": [],
   "source": [
    "#*args and**kwargs"
   ]
  },
  {
   "cell_type": "code",
   "execution_count": 52,
   "id": "d799898a-dcb1-4c9f-8cea-0dd4a6765504",
   "metadata": {},
   "outputs": [],
   "source": [
    "def number(*args):\n",
    "    for i in args:\n",
    "        print(i)"
   ]
  },
  {
   "cell_type": "code",
   "execution_count": 53,
   "id": "297fe42f-d41b-4b66-9c88-550c4b633a01",
   "metadata": {},
   "outputs": [
    {
     "name": "stdout",
     "output_type": "stream",
     "text": [
      "1\n",
      "24\n"
     ]
    }
   ],
   "source": [
    "number(1,24)"
   ]
  },
  {
   "cell_type": "code",
   "execution_count": 57,
   "id": "d0ddf374-f591-4230-8359-b1dcb08cc674",
   "metadata": {},
   "outputs": [],
   "source": [
    "def letter(**kwargs):\n",
    "    a=12\n",
    "    b=34\n",
    "    c=28\n",
    "    print(a+b+c)\n",
    "    "
   ]
  },
  {
   "cell_type": "code",
   "execution_count": 58,
   "id": "58b86be2-0b33-4f98-9c9c-4c97ce48d31f",
   "metadata": {},
   "outputs": [
    {
     "name": "stdout",
     "output_type": "stream",
     "text": [
      "74\n"
     ]
    }
   ],
   "source": [
    "letter()"
   ]
  },
  {
   "cell_type": "code",
   "execution_count": null,
   "id": "b5652772-dfb2-457a-8e8b-6042156beb22",
   "metadata": {},
   "outputs": [],
   "source": []
  }
 ],
 "metadata": {
  "kernelspec": {
   "display_name": "Python 3 (ipykernel)",
   "language": "python",
   "name": "python3"
  },
  "language_info": {
   "codemirror_mode": {
    "name": "ipython",
    "version": 3
   },
   "file_extension": ".py",
   "mimetype": "text/x-python",
   "name": "python",
   "nbconvert_exporter": "python",
   "pygments_lexer": "ipython3",
   "version": "3.10.8"
  }
 },
 "nbformat": 4,
 "nbformat_minor": 5
}
